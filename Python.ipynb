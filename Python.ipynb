{
  "nbformat": 4,
  "nbformat_minor": 0,
  "metadata": {
    "colab": {
      "name": "Python",
      "version": "0.3.2",
      "provenance": [],
      "collapsed_sections": [
        "9HQfrZyXrFzh",
        "bobcc6XilxSf"
      ],
      "toc_visible": true,
      "include_colab_link": true
    },
    "kernelspec": {
      "name": "python3",
      "display_name": "Python 3"
    }
  },
  "cells": [
    {
      "cell_type": "markdown",
      "metadata": {
        "id": "view-in-github",
        "colab_type": "text"
      },
      "source": [
        "<a href=\"https://colab.research.google.com/github/yswetha95/SQL-Practice/blob/master/Python.ipynb\" target=\"_parent\"><img src=\"https://colab.research.google.com/assets/colab-badge.svg\" alt=\"Open In Colab\"/></a>"
      ]
    },
    {
      "cell_type": "code",
      "metadata": {
        "id": "VTQ3Hl60bGUs",
        "colab_type": "code",
        "outputId": "bdeaa7ed-723f-474a-9c2a-95f1e9c2612f",
        "colab": {
          "base_uri": "https://localhost:8080/",
          "height": 52
        }
      },
      "source": [
        "import numpy as np\n",
        "a=np.array([1,2,3.0,\"hello\"])\n",
        "print(a)\n",
        "print(type(a))"
      ],
      "execution_count": 0,
      "outputs": [
        {
          "output_type": "stream",
          "text": [
            "['1' '2' '3.0' 'hello']\n",
            "<class 'numpy.ndarray'>\n"
          ],
          "name": "stdout"
        }
      ]
    },
    {
      "cell_type": "code",
      "metadata": {
        "id": "Kb_REH0ocE-Z",
        "colab_type": "code",
        "colab": {}
      },
      "source": [
        "import array as arr"
      ],
      "execution_count": 0,
      "outputs": []
    },
    {
      "cell_type": "markdown",
      "metadata": {
        "id": "kuY2XP7OgL_P",
        "colab_type": "text"
      },
      "source": [
        "##Start"
      ]
    },
    {
      "cell_type": "code",
      "metadata": {
        "id": "A6e9jGvygZB_",
        "colab_type": "code",
        "outputId": "929f597d-6840-4199-9b85-bea2084de294",
        "colab": {
          "base_uri": "https://localhost:8080/",
          "height": 106
        }
      },
      "source": [
        "print(\"Hello world\")\n",
        "print(3)\n",
        "print(\"Hello\\nworld\")\n",
        "print(\"Hello\\\"world\")"
      ],
      "execution_count": 0,
      "outputs": [
        {
          "output_type": "stream",
          "text": [
            "Hello world\n",
            "3\n",
            "Hello\n",
            "world\n",
            "Hello\"world\n"
          ],
          "name": "stdout"
        }
      ]
    },
    {
      "cell_type": "markdown",
      "metadata": {
        "id": "Q2tatb3mu5rP",
        "colab_type": "text"
      },
      "source": [
        "##Inputs"
      ]
    },
    {
      "cell_type": "code",
      "metadata": {
        "id": "CkYxDmOdu-Ax",
        "colab_type": "code",
        "outputId": "2408aeb5-e42e-4a47-cd0b-2864d05d995f",
        "colab": {
          "base_uri": "https://localhost:8080/",
          "height": 52
        }
      },
      "source": [
        "bestfriend=input(\"enter your best friend name:\")\n",
        "print(bestfriend)"
      ],
      "execution_count": 0,
      "outputs": [
        {
          "output_type": "stream",
          "text": [
            "enter your best friend name:lalam\n",
            "lalam\n"
          ],
          "name": "stdout"
        }
      ]
    },
    {
      "cell_type": "markdown",
      "metadata": {
        "id": "VhZebYrFcwZa",
        "colab_type": "text"
      },
      "source": [
        "## Adding strings"
      ]
    },
    {
      "cell_type": "code",
      "metadata": {
        "id": "eqRh4_VScqe4",
        "colab_type": "code",
        "outputId": "5239ef5c-95be-4082-a676-653f4dee14ce",
        "colab": {
          "base_uri": "https://localhost:8080/",
          "height": 35
        }
      },
      "source": [
        "phrase=\"Hello world\"\n",
        "print(phrase+\" is cool\")"
      ],
      "execution_count": 0,
      "outputs": [
        {
          "output_type": "stream",
          "text": [
            "Hello world is cool\n"
          ],
          "name": "stdout"
        }
      ]
    },
    {
      "cell_type": "markdown",
      "metadata": {
        "id": "-96geIW4glpt",
        "colab_type": "text"
      },
      "source": [
        "## Length of String"
      ]
    },
    {
      "cell_type": "code",
      "metadata": {
        "id": "Rb5YxxXRgirh",
        "colab_type": "code",
        "outputId": "94709b9e-41c0-4c9d-fc28-af36c10c01fc",
        "colab": {
          "base_uri": "https://localhost:8080/",
          "height": 240
        }
      },
      "source": [
        "print(len(phrase))\n",
        "\n",
        "num=[1,2,3,4]\n",
        "print(len(num))\n",
        "\n",
        "num=1234455\n",
        "print(len(num))"
      ],
      "execution_count": 0,
      "outputs": [
        {
          "output_type": "stream",
          "text": [
            "11\n",
            "4\n"
          ],
          "name": "stdout"
        },
        {
          "output_type": "error",
          "ename": "TypeError",
          "evalue": "ignored",
          "traceback": [
            "\u001b[0;31m---------------------------------------------------------------------------\u001b[0m",
            "\u001b[0;31mTypeError\u001b[0m                                 Traceback (most recent call last)",
            "\u001b[0;32m<ipython-input-11-225e5501f577>\u001b[0m in \u001b[0;36m<module>\u001b[0;34m()\u001b[0m\n\u001b[1;32m      5\u001b[0m \u001b[0;34m\u001b[0m\u001b[0m\n\u001b[1;32m      6\u001b[0m \u001b[0mnum\u001b[0m\u001b[0;34m=\u001b[0m\u001b[0;36m1234455\u001b[0m\u001b[0;34m\u001b[0m\u001b[0;34m\u001b[0m\u001b[0m\n\u001b[0;32m----> 7\u001b[0;31m \u001b[0mprint\u001b[0m\u001b[0;34m(\u001b[0m\u001b[0mlen\u001b[0m\u001b[0;34m(\u001b[0m\u001b[0mnum\u001b[0m\u001b[0;34m)\u001b[0m\u001b[0;34m)\u001b[0m\u001b[0;34m\u001b[0m\u001b[0;34m\u001b[0m\u001b[0m\n\u001b[0m",
            "\u001b[0;31mTypeError\u001b[0m: object of type 'int' has no len()"
          ]
        }
      ]
    },
    {
      "cell_type": "markdown",
      "metadata": {
        "id": "mnJpZLXMcgMY",
        "colab_type": "text"
      },
      "source": [
        "##Converting to lower and upper case\n"
      ]
    },
    {
      "cell_type": "code",
      "metadata": {
        "id": "ZM30nJLecbgf",
        "colab_type": "code",
        "outputId": "1008a5fc-69de-49af-92ce-4e4ec02f6084",
        "colab": {
          "base_uri": "https://localhost:8080/",
          "height": 52
        }
      },
      "source": [
        "Phrase=\"Hello world\"\n",
        "print(Phrase.lower())\n",
        "print((Phrase.upper()).isupper())"
      ],
      "execution_count": 0,
      "outputs": [
        {
          "output_type": "stream",
          "text": [
            "hello world\n",
            "True\n"
          ],
          "name": "stdout"
        }
      ]
    },
    {
      "cell_type": "markdown",
      "metadata": {
        "id": "qYio2auihk3q",
        "colab_type": "text"
      },
      "source": [
        "## Index and Replace"
      ]
    },
    {
      "cell_type": "code",
      "metadata": {
        "id": "rGdyTTxHhlpJ",
        "colab_type": "code",
        "outputId": "56b41dbe-78ce-4995-c4cc-b49fc0a9257e",
        "colab": {
          "base_uri": "https://localhost:8080/",
          "height": 70
        }
      },
      "source": [
        "print(phrase.index(\"w\"))\n",
        "print(phrase.index(\"wor\"))\n",
        "print(phrase.replace(\"Hello\",\"Hiee\"))"
      ],
      "execution_count": 0,
      "outputs": [
        {
          "output_type": "stream",
          "text": [
            "6\n",
            "6\n",
            "Hiee world\n"
          ],
          "name": "stdout"
        }
      ]
    },
    {
      "cell_type": "markdown",
      "metadata": {
        "id": "ITA4FAWlhXsh",
        "colab_type": "text"
      },
      "source": [
        "## Mathematic Operations"
      ]
    },
    {
      "cell_type": "code",
      "metadata": {
        "id": "sFh5wJXFhWTM",
        "colab_type": "code",
        "outputId": "927d7aaf-9df0-4a14-d96c-f7188a6ca79d",
        "colab": {
          "base_uri": "https://localhost:8080/",
          "height": 124
        }
      },
      "source": [
        "print(10%3)\n",
        "print(10/3)\n",
        "print(10-3)\n",
        "print(10*3)\n",
        "print(2**3)\n",
        "print(pow(2,3))"
      ],
      "execution_count": 0,
      "outputs": [
        {
          "output_type": "stream",
          "text": [
            "1\n",
            "3.3333333333333335\n",
            "7\n",
            "30\n",
            "8\n",
            "8.0\n"
          ],
          "name": "stdout"
        }
      ]
    },
    {
      "cell_type": "code",
      "metadata": {
        "id": "48h_J-P4j1qh",
        "colab_type": "code",
        "outputId": "83df7c27-e7f6-42b3-ead0-967186b5414a",
        "colab": {
          "base_uri": "https://localhost:8080/",
          "height": 159
        }
      },
      "source": [
        "from math import *\n",
        "\n",
        "num=-5\n",
        "print(str(num)+\"cool\")\n",
        "print(abs(num))\n",
        "\n",
        "print(pow(num,2))\n",
        "\n",
        "num=-5\n",
        "\n",
        "print(pow(num,2))\n",
        "print(max(num,2))\n",
        "print(min(num,2))\n",
        "print(round(3.777,5))   ##Output 3.777\n",
        "print(round(3.777,2))   ##Output 3.78\n",
        "#print(cube(4))"
      ],
      "execution_count": 0,
      "outputs": [
        {
          "output_type": "stream",
          "text": [
            "-5cool\n",
            "5\n",
            "25.0\n",
            "25.0\n",
            "2\n",
            "-5\n",
            "3.777\n",
            "3.78\n"
          ],
          "name": "stdout"
        }
      ]
    },
    {
      "cell_type": "code",
      "metadata": {
        "id": "LYnlphg4j2c7",
        "colab_type": "code",
        "outputId": "586e4d79-a293-44c0-bf6d-1679acfac004",
        "colab": {
          "base_uri": "https://localhost:8080/",
          "height": 106
        }
      },
      "source": [
        "print(ceil(3.7))   # Output is 4.Ceiling function rounds it to the next closest integer\n",
        "print(floor(3.7))  # Output is 3.Floor function rounds it to the below closest integer\n",
        "\n",
        "print(sqrt(3.7))\n",
        "\n",
        "name=input(\"Enter your name: \") ##User Inputs\n",
        "print(\"Hello\"+name)"
      ],
      "execution_count": 0,
      "outputs": [
        {
          "output_type": "stream",
          "text": [
            "4\n",
            "3\n",
            "1.9235384061671346\n",
            "Enter your name: swetha\n",
            "Helloswetha\n"
          ],
          "name": "stdout"
        }
      ]
    },
    {
      "cell_type": "markdown",
      "metadata": {
        "id": "5rq3zKrCkE8Y",
        "colab_type": "text"
      },
      "source": [
        "##Lists"
      ]
    },
    {
      "cell_type": "code",
      "metadata": {
        "id": "QFwqSdVlkEYG",
        "colab_type": "code",
        "outputId": "075b1a37-a4c4-4491-8a91-f9d44f447463",
        "colab": {
          "base_uri": "https://localhost:8080/",
          "height": 70
        }
      },
      "source": [
        "friends=[\"swe\",\"pooji\",\"Vinay\",2,True]\n",
        "numbers=[1,2,3,4]\n",
        "print(friends)\n",
        "print(friends[1:])  # Every number except first will come\n",
        "print(friends[1:3]) #only index 1 & 2 are included 3rd wont be included. That is only terms 3& 4 are included 5th wont be included.\n"
      ],
      "execution_count": 0,
      "outputs": [
        {
          "output_type": "stream",
          "text": [
            "['swe', 'pooji', 'Vinay', 2, True]\n",
            "['pooji', 'Vinay', 2, True]\n",
            "['pooji', 'Vinay']\n"
          ],
          "name": "stdout"
        }
      ]
    },
    {
      "cell_type": "markdown",
      "metadata": {
        "id": "CrSQq05ZkaGj",
        "colab_type": "text"
      },
      "source": [
        "###extend"
      ]
    },
    {
      "cell_type": "code",
      "metadata": {
        "id": "k_ESebejkZr2",
        "colab_type": "code",
        "outputId": "def594f8-ea26-4ff7-9e47-a88ade05b912",
        "colab": {
          "base_uri": "https://localhost:8080/",
          "height": 35
        }
      },
      "source": [
        "friends.extend(numbers)\n",
        "print(friends)"
      ],
      "execution_count": 0,
      "outputs": [
        {
          "output_type": "stream",
          "text": [
            "['swe', 'pooji', 'Vinay', 2, True, 1, 2, 3, 4]\n"
          ],
          "name": "stdout"
        }
      ]
    },
    {
      "cell_type": "markdown",
      "metadata": {
        "id": "CSkhsLv9knae",
        "colab_type": "text"
      },
      "source": [
        "###Insert"
      ]
    },
    {
      "cell_type": "code",
      "metadata": {
        "id": "t-nVf1RfkU9K",
        "colab_type": "code",
        "outputId": "cb39fdea-037f-4eb0-a048-dc43424552c5",
        "colab": {
          "base_uri": "https://localhost:8080/",
          "height": 106
        }
      },
      "source": [
        "friends=[\"swe\",\"pooji\",\"Vinay\",2,True]\n",
        "friends.insert(1,\"kelly\")\n",
        "print(friends)\n",
        "friends.insert(2,\"kelly\")\n",
        "print(friends)\n",
        "friends.insert(3,\"kelly\")\n",
        "print(friends)\n",
        "friends.insert(4,\"kelly\")\n",
        "print(friends)\n",
        "friends.insert(12,\"kelly\")\n",
        "print(friends)"
      ],
      "execution_count": 0,
      "outputs": [
        {
          "output_type": "stream",
          "text": [
            "['swe', 'kelly', 'pooji', 'Vinay', 2, True]\n",
            "['swe', 'kelly', 'kelly', 'pooji', 'Vinay', 2, True]\n",
            "['swe', 'kelly', 'kelly', 'kelly', 'pooji', 'Vinay', 2, True]\n",
            "['swe', 'kelly', 'kelly', 'kelly', 'kelly', 'pooji', 'Vinay', 2, True]\n",
            "['swe', 'kelly', 'kelly', 'kelly', 'kelly', 'pooji', 'Vinay', 2, True, 'kelly']\n"
          ],
          "name": "stdout"
        }
      ]
    },
    {
      "cell_type": "markdown",
      "metadata": {
        "id": "AFl3Dq6KkwAA",
        "colab_type": "text"
      },
      "source": [
        "###remove"
      ]
    },
    {
      "cell_type": "code",
      "metadata": {
        "id": "TQXENQTwkwcT",
        "colab_type": "code",
        "outputId": "3e30c6fb-64d9-44ba-bcfc-85c1a62f387a",
        "colab": {
          "base_uri": "https://localhost:8080/",
          "height": 35
        }
      },
      "source": [
        "friends=[\"swe\",\"pooji\",\"Vinay\",2,True]\n",
        "friends.remove(\"pooji\")\n",
        "print(friends)\n"
      ],
      "execution_count": 0,
      "outputs": [
        {
          "output_type": "stream",
          "text": [
            "['swe', 'Vinay', 2, True]\n"
          ],
          "name": "stdout"
        }
      ]
    },
    {
      "cell_type": "markdown",
      "metadata": {
        "id": "tbgrGEHwkyuJ",
        "colab_type": "text"
      },
      "source": [
        "###Clear all elements:.clear()"
      ]
    },
    {
      "cell_type": "code",
      "metadata": {
        "id": "XilaRsB2kzNg",
        "colab_type": "code",
        "outputId": "71a1833d-eb6f-41f1-cd02-4cae7addcf00",
        "colab": {
          "base_uri": "https://localhost:8080/",
          "height": 35
        }
      },
      "source": [
        "friends=[\"swe\",\"pooji\",\"Vinay\",2,True]\n",
        "friends.clear()\n",
        "print(friends)"
      ],
      "execution_count": 0,
      "outputs": [
        {
          "output_type": "stream",
          "text": [
            "[]\n"
          ],
          "name": "stdout"
        }
      ]
    },
    {
      "cell_type": "markdown",
      "metadata": {
        "id": "xXzPvkWGlZ7v",
        "colab_type": "text"
      },
      "source": [
        "###pop"
      ]
    },
    {
      "cell_type": "code",
      "metadata": {
        "id": "G4GXC7WIlb1D",
        "colab_type": "code",
        "outputId": "adfcf649-ca29-40d8-b1fd-e0b66959f433",
        "colab": {
          "base_uri": "https://localhost:8080/",
          "height": 35
        }
      },
      "source": [
        "friends=[\"swe\",\"pooji\",\"Vinay\",2,True]\n",
        "friends.pop() #last element will be removed.\n",
        "print(friends)"
      ],
      "execution_count": 0,
      "outputs": [
        {
          "output_type": "stream",
          "text": [
            "['swe', 'pooji', 'Vinay', 2]\n"
          ],
          "name": "stdout"
        }
      ]
    },
    {
      "cell_type": "markdown",
      "metadata": {
        "id": "nu4pZDpVlR3o",
        "colab_type": "text"
      },
      "source": [
        "###index"
      ]
    },
    {
      "cell_type": "code",
      "metadata": {
        "id": "EH7zBcurlQVZ",
        "colab_type": "code",
        "outputId": "612659ff-a8fa-43d5-e0a1-5af66dfa5a58",
        "colab": {
          "base_uri": "https://localhost:8080/",
          "height": 35
        }
      },
      "source": [
        "friends=[\"swe\",\"pooji\",\"Vinay\",2,True]\n",
        "print(friends.index(\"pooji\"))  #1\n",
        "\n"
      ],
      "execution_count": 0,
      "outputs": [
        {
          "output_type": "stream",
          "text": [
            "1\n"
          ],
          "name": "stdout"
        }
      ]
    },
    {
      "cell_type": "markdown",
      "metadata": {
        "id": "dVCdd-4OlUjO",
        "colab_type": "text"
      },
      "source": [
        "###count"
      ]
    },
    {
      "cell_type": "code",
      "metadata": {
        "id": "asFEMA16lV20",
        "colab_type": "code",
        "outputId": "5f096c4d-2a8a-45e2-88e9-f6ee8cdf6464",
        "colab": {
          "base_uri": "https://localhost:8080/",
          "height": 35
        }
      },
      "source": [
        "print(friends.count(\"pooji\"))  #1"
      ],
      "execution_count": 0,
      "outputs": [
        {
          "output_type": "stream",
          "text": [
            "1\n"
          ],
          "name": "stdout"
        }
      ]
    },
    {
      "cell_type": "markdown",
      "metadata": {
        "id": "9HQfrZyXrFzh",
        "colab_type": "text"
      },
      "source": [
        "###Create copy of a list"
      ]
    },
    {
      "cell_type": "code",
      "metadata": {
        "id": "6ZTu2DghrGPF",
        "colab_type": "code",
        "colab": {}
      },
      "source": [
        "stringlist2=stringlist.copy()\n",
        "\n",
        "print(stringlist2)"
      ],
      "execution_count": 0,
      "outputs": []
    },
    {
      "cell_type": "markdown",
      "metadata": {
        "id": "bobcc6XilxSf",
        "colab_type": "text"
      },
      "source": [
        "###Sorting"
      ]
    },
    {
      "cell_type": "markdown",
      "metadata": {
        "id": "GthEDGOIl1Kq",
        "colab_type": "text"
      },
      "source": [
        "####sorting lists with integers"
      ]
    },
    {
      "cell_type": "code",
      "metadata": {
        "id": "F5DE02NnlzJv",
        "colab_type": "code",
        "outputId": "a9bea27e-2c4a-403b-8e72-227c07590a89",
        "colab": {
          "base_uri": "https://localhost:8080/",
          "height": 106
        }
      },
      "source": [
        "num=[25,10,9,35,25]\n",
        "sorted(num)\n",
        "print(num)\n",
        "num.sort()    ##Permanent\n",
        "print(num)\n",
        "print(num.sort())\n",
        "num=[25,10,9,35,25]\n",
        "print(sorted(num))  #temporary,the original dataset wont be changed\n",
        "print(num)"
      ],
      "execution_count": 0,
      "outputs": [
        {
          "output_type": "stream",
          "text": [
            "[25, 10, 9, 35, 25]\n",
            "[9, 10, 25, 25, 35]\n",
            "None\n",
            "[9, 10, 25, 25, 35]\n",
            "[25, 10, 9, 35, 25]\n"
          ],
          "name": "stdout"
        }
      ]
    },
    {
      "cell_type": "markdown",
      "metadata": {
        "id": "g3jtJrOImMzI",
        "colab_type": "text"
      },
      "source": [
        "####Sorting list with strings"
      ]
    },
    {
      "cell_type": "code",
      "metadata": {
        "id": "-7iahfBVmQEi",
        "colab_type": "code",
        "outputId": "307fc622-66f0-49d4-c31f-339369d1a206",
        "colab": {
          "base_uri": "https://localhost:8080/",
          "height": 106
        }
      },
      "source": [
        "stringlist=[\"swe\",\"lalam\",\"srilu\",\"pooji\",\"Vinay\",\"va\"]\n",
        "sorted(stringlist)\n",
        "print(stringlist)\n",
        "stringlist.sort()    ##Permanent\n",
        "print(stringlist)\n",
        "print(stringlist.sort())\n",
        "stringlist=[25,10,9,35,25]\n",
        "print(sorted(stringlist))  #temporary,the original dataset wont be changed\n",
        "print(stringlist)"
      ],
      "execution_count": 0,
      "outputs": [
        {
          "output_type": "stream",
          "text": [
            "['swe', 'lalam', 'srilu', 'pooji', 'Vinay', 'va']\n",
            "['Vinay', 'lalam', 'pooji', 'srilu', 'swe', 'va']\n",
            "None\n",
            "[9, 10, 25, 25, 35]\n",
            "[25, 10, 9, 35, 25]\n"
          ],
          "name": "stdout"
        }
      ]
    },
    {
      "cell_type": "markdown",
      "metadata": {
        "id": "nhRASsvIq33D",
        "colab_type": "text"
      },
      "source": [
        "####Reverse and descending order sorting"
      ]
    },
    {
      "cell_type": "markdown",
      "metadata": {
        "id": "57DpG0EVr9Ko",
        "colab_type": "text"
      },
      "source": [
        "stringlist.sort(reverse=True)gives descending order"
      ]
    },
    {
      "cell_type": "code",
      "metadata": {
        "id": "PpNC6ZaModLC",
        "colab_type": "code",
        "outputId": "d8df8a27-d84f-48bb-d398-0007662b9961",
        "colab": {
          "base_uri": "https://localhost:8080/",
          "height": 88
        }
      },
      "source": [
        "stringlist=[\"swe\",\"lalam\",\"srilu\",\"pooji\",\"Vinay\",\"va\"]\n",
        "stringlist.sort()\n",
        "stringlist.reverse()\n",
        "print(stringlist)\n",
        "\n",
        "stringlist=[\"swe\",\"lalam\",\"srilu\",\"pooji\",\"Vinay\",\"va\"]\n",
        "stringlist.sort(reverse=True)    \n",
        "print(stringlist)\n",
        "\n",
        "stringlist=[\"swe\",\"lalam\",\"srilu\",\"pooji\",\"Vinay\",\"va\"]\n",
        "stringlist.sort(reverse=False)\n",
        "print(stringlist)"
      ],
      "execution_count": 0,
      "outputs": [
        {
          "output_type": "stream",
          "text": [
            "['va', 'swe', 'srilu', 'pooji', 'lalam', 'Vinay']\n",
            "['va', 'swe', 'srilu', 'pooji', 'lalam', 'Vinay']\n",
            "['Vinay', 'lalam', 'pooji', 'srilu', 'swe', 'va']\n",
            "['Vinay', 'lalam', 'pooji', 'srilu', 'swe', 'va']\n"
          ],
          "name": "stdout"
        }
      ]
    },
    {
      "cell_type": "markdown",
      "metadata": {
        "id": "pWMLQRNeuOmu",
        "colab_type": "text"
      },
      "source": [
        "##Tuples"
      ]
    },
    {
      "cell_type": "markdown",
      "metadata": {
        "id": "tbVxwxYWuQyA",
        "colab_type": "text"
      },
      "source": [
        "Tuples are immutable i.e., they cannot be changed. They are created using () brackets where as lists are created using []"
      ]
    },
    {
      "cell_type": "markdown",
      "metadata": {
        "id": "s6qZFtE_ugs-",
        "colab_type": "text"
      },
      "source": [
        "##Functions"
      ]
    },
    {
      "cell_type": "markdown",
      "metadata": {
        "id": "twNxZmWvulp2",
        "colab_type": "text"
      },
      "source": [
        "###if"
      ]
    },
    {
      "cell_type": "code",
      "metadata": {
        "id": "mSWDBsBvuk5I",
        "colab_type": "code",
        "outputId": "1a50039b-083a-443f-ec45-36672ea76c0c",
        "colab": {
          "base_uri": "https://localhost:8080/",
          "height": 35
        }
      },
      "source": [
        "is_male=False\n",
        "if is_male:\n",
        "    print(\"you are a male\")\n",
        "else:\n",
        "    print(\"not\")"
      ],
      "execution_count": 0,
      "outputs": [
        {
          "output_type": "stream",
          "text": [
            "not\n"
          ],
          "name": "stdout"
        }
      ]
    },
    {
      "cell_type": "markdown",
      "metadata": {
        "id": "ss8GFynXuxbm",
        "colab_type": "text"
      },
      "source": [
        "###elif"
      ]
    },
    {
      "cell_type": "markdown",
      "metadata": {
        "id": "18TNV66Mvipi",
        "colab_type": "text"
      },
      "source": [
        "elseif won't work in Python"
      ]
    },
    {
      "cell_type": "code",
      "metadata": {
        "id": "aawxgspiuir5",
        "colab_type": "code",
        "outputId": "b009b190-41c8-4735-fcae-5446373e128c",
        "colab": {
          "base_uri": "https://localhost:8080/",
          "height": 52
        }
      },
      "source": [
        "op=input(\"enter\")\n",
        "num1=2\n",
        "num2=3\n",
        "if op==\"+\":\n",
        "    print(num1+num2)\n",
        "elif op == \"-\":\n",
        "    print(num1 - num2)\n",
        "elif op == \"*\":\n",
        "    print(num1 *num2)\n",
        "else:\n",
        "    print(num1/num2)"
      ],
      "execution_count": 0,
      "outputs": [
        {
          "output_type": "stream",
          "text": [
            "entera\n",
            "0.6666666666666666\n"
          ],
          "name": "stdout"
        }
      ]
    },
    {
      "cell_type": "markdown",
      "metadata": {
        "id": "HP7rTQgdvsev",
        "colab_type": "text"
      },
      "source": [
        "###While"
      ]
    },
    {
      "cell_type": "code",
      "metadata": {
        "id": "jAqROUu7vvxK",
        "colab_type": "code",
        "outputId": "f90ba132-e374-45ae-8d97-fd1a72e5b6e7",
        "colab": {
          "base_uri": "https://localhost:8080/",
          "height": 177
        }
      },
      "source": [
        "i=1\n",
        "while i!=10:\n",
        "    print(i)\n",
        "    i=i+1"
      ],
      "execution_count": 0,
      "outputs": [
        {
          "output_type": "stream",
          "text": [
            "1\n",
            "2\n",
            "3\n",
            "4\n",
            "5\n",
            "6\n",
            "7\n",
            "8\n",
            "9\n"
          ],
          "name": "stdout"
        }
      ]
    },
    {
      "cell_type": "code",
      "metadata": {
        "id": "mLSpG-nyv9BM",
        "colab_type": "code",
        "outputId": "62fca193-0334-44db-820a-80eee0094aa8",
        "colab": {
          "base_uri": "https://localhost:8080/",
          "height": 106
        }
      },
      "source": [
        "secret=\"swe\"\n",
        "guess=\"\"\n",
        "while guess!=secret:\n",
        "    guess=input(\"Enter guess: \")\n",
        "print(\"You won\")"
      ],
      "execution_count": 0,
      "outputs": [
        {
          "output_type": "stream",
          "text": [
            "Enter guess: nfbtg\n",
            "Enter guess: fbjhfrhg\n",
            "Enter guess: hfhfgt\n",
            "Enter guess: swe\n",
            "You won\n"
          ],
          "name": "stdout"
        }
      ]
    },
    {
      "cell_type": "markdown",
      "metadata": {
        "id": "RB5bcMjUwkGm",
        "colab_type": "text"
      },
      "source": [
        "###for"
      ]
    },
    {
      "cell_type": "code",
      "metadata": {
        "id": "POd0BNbXwklJ",
        "colab_type": "code",
        "outputId": "7d3cea54-de68-4946-a8e5-b16d6fea8eb6",
        "colab": {
          "base_uri": "https://localhost:8080/",
          "height": 212
        }
      },
      "source": [
        "for letter in \"hello world\":\n",
        "    print(letter)"
      ],
      "execution_count": 0,
      "outputs": [
        {
          "output_type": "stream",
          "text": [
            "h\n",
            "e\n",
            "l\n",
            "l\n",
            "o\n",
            " \n",
            "w\n",
            "o\n",
            "r\n",
            "l\n",
            "d\n"
          ],
          "name": "stdout"
        }
      ]
    },
    {
      "cell_type": "code",
      "metadata": {
        "id": "vfUCF_EWxhWi",
        "colab_type": "code",
        "outputId": "d6009af1-76e7-45a4-e52c-e85650935c11",
        "colab": {
          "base_uri": "https://localhost:8080/",
          "height": 70
        }
      },
      "source": [
        "friens=[\"sw\",\"vin\",\"poo\"]\n",
        "for i in friens:\n",
        "    print(i)\n",
        "\n"
      ],
      "execution_count": 0,
      "outputs": [
        {
          "output_type": "stream",
          "text": [
            "sw\n",
            "vin\n",
            "poo\n"
          ],
          "name": "stdout"
        }
      ]
    },
    {
      "cell_type": "code",
      "metadata": {
        "id": "T3lOXyWexnTB",
        "colab_type": "code",
        "outputId": "57776560-fc5e-4633-b91c-aabc5077f33e",
        "colab": {
          "base_uri": "https://localhost:8080/",
          "height": 195
        }
      },
      "source": [
        "for i in range(10):\n",
        "    print(i)\n"
      ],
      "execution_count": 0,
      "outputs": [
        {
          "output_type": "stream",
          "text": [
            "0\n",
            "1\n",
            "2\n",
            "3\n",
            "4\n",
            "5\n",
            "6\n",
            "7\n",
            "8\n",
            "9\n"
          ],
          "name": "stdout"
        }
      ]
    },
    {
      "cell_type": "code",
      "metadata": {
        "id": "qUttee8uxwaC",
        "colab_type": "code",
        "outputId": "28d356f9-44e3-43dc-c9ba-51084884d806",
        "colab": {
          "base_uri": "https://localhost:8080/",
          "height": 141
        }
      },
      "source": [
        "for i in range(3,10):\n",
        "    print(i)"
      ],
      "execution_count": 0,
      "outputs": [
        {
          "output_type": "stream",
          "text": [
            "3\n",
            "4\n",
            "5\n",
            "6\n",
            "7\n",
            "8\n",
            "9\n"
          ],
          "name": "stdout"
        }
      ]
    },
    {
      "cell_type": "code",
      "metadata": {
        "id": "wgdFUeuUyVt4",
        "colab_type": "code",
        "outputId": "25e16329-0bf0-4b8f-d771-39f5423b2ad5",
        "colab": {
          "base_uri": "https://localhost:8080/",
          "height": 70
        }
      },
      "source": [
        "friends=[\"sw\",\"vin\",\"poo\"]\n",
        "\n",
        "for index in range(len(friends)):\n",
        "    print(friends[index])"
      ],
      "execution_count": 0,
      "outputs": [
        {
          "output_type": "stream",
          "text": [
            "sw\n",
            "vin\n",
            "poo\n"
          ],
          "name": "stdout"
        }
      ]
    },
    {
      "cell_type": "markdown",
      "metadata": {
        "id": "Qp9CVLZh1HGX",
        "colab_type": "text"
      },
      "source": [
        "###Except"
      ]
    },
    {
      "cell_type": "code",
      "metadata": {
        "id": "2TWaUKks1h9M",
        "colab_type": "code",
        "outputId": "7c273d26-0406-4a5a-e305-a6fbf8e744b0",
        "colab": {
          "base_uri": "https://localhost:8080/",
          "height": 204
        }
      },
      "source": [
        "number=int(input(\"Enter a number\"))\n",
        "print(number)\n"
      ],
      "execution_count": 0,
      "outputs": [
        {
          "output_type": "stream",
          "text": [
            "Enter a numberswe\n"
          ],
          "name": "stdout"
        },
        {
          "output_type": "error",
          "ename": "ValueError",
          "evalue": "ignored",
          "traceback": [
            "\u001b[0;31m---------------------------------------------------------------------------\u001b[0m",
            "\u001b[0;31mValueError\u001b[0m                                Traceback (most recent call last)",
            "\u001b[0;32m<ipython-input-77-6a784fe145b4>\u001b[0m in \u001b[0;36m<module>\u001b[0;34m()\u001b[0m\n\u001b[0;32m----> 1\u001b[0;31m \u001b[0mnumber\u001b[0m\u001b[0;34m=\u001b[0m\u001b[0mint\u001b[0m\u001b[0;34m(\u001b[0m\u001b[0minput\u001b[0m\u001b[0;34m(\u001b[0m\u001b[0;34m\"Enter a number\"\u001b[0m\u001b[0;34m)\u001b[0m\u001b[0;34m)\u001b[0m\u001b[0;34m\u001b[0m\u001b[0;34m\u001b[0m\u001b[0m\n\u001b[0m\u001b[1;32m      2\u001b[0m \u001b[0mprint\u001b[0m\u001b[0;34m(\u001b[0m\u001b[0mnumber\u001b[0m\u001b[0;34m)\u001b[0m\u001b[0;34m\u001b[0m\u001b[0;34m\u001b[0m\u001b[0m\n",
            "\u001b[0;31mValueError\u001b[0m: invalid literal for int() with base 10: 'swe'"
          ]
        }
      ]
    },
    {
      "cell_type": "markdown",
      "metadata": {
        "id": "BO99GQcy1TZc",
        "colab_type": "text"
      },
      "source": [
        "When given int(), python will accept only integers. hence the error as we have given swe as input. In these cases we have to use except function"
      ]
    },
    {
      "cell_type": "code",
      "metadata": {
        "id": "eX21ioqo1HuK",
        "colab_type": "code",
        "outputId": "6871f98b-2d0b-48fb-d052-61d557f7a3bc",
        "colab": {
          "base_uri": "https://localhost:8080/",
          "height": 52
        }
      },
      "source": [
        "# \n",
        "try:\n",
        "    number=int(input(\"Enter a number\"))\n",
        "    print(number)\n",
        "except:\n",
        "    print(\"invalid input\")\n",
        "    "
      ],
      "execution_count": 0,
      "outputs": [
        {
          "output_type": "stream",
          "text": [
            "Enter a numberswe\n",
            "invalid input\n"
          ],
          "name": "stdout"
        }
      ]
    },
    {
      "cell_type": "code",
      "metadata": {
        "id": "wPkTb77Y1Qcd",
        "colab_type": "code",
        "outputId": "8b5e1870-907b-4ff8-f394-a4a97011f916",
        "colab": {
          "base_uri": "https://localhost:8080/",
          "height": 52
        }
      },
      "source": [
        "# \n",
        "try:\n",
        "    number=int(input(\"Enter a number\"))\n",
        "    print(number)\n",
        "except:\n",
        "    print(\"invalid input\")\n",
        "    "
      ],
      "execution_count": 0,
      "outputs": [
        {
          "output_type": "stream",
          "text": [
            "Enter a number3\n",
            "3\n"
          ],
          "name": "stdout"
        }
      ]
    },
    {
      "cell_type": "code",
      "metadata": {
        "id": "sM6b0Xv81Ywg",
        "colab_type": "code",
        "outputId": "d39f2697-8242-4325-d802-a6319e71afa2",
        "colab": {
          "base_uri": "https://localhost:8080/",
          "height": 35
        }
      },
      "source": [
        "try:\n",
        "    value=10/0\n",
        "    number=int(input(\"Enter a number\"))\n",
        "    print(number)\n",
        "except ZeroDivisionError:\n",
        "    print(\"zero should not be in denominator\")\n",
        "except ValueError:\n",
        "    print(\"ValueError\")"
      ],
      "execution_count": 0,
      "outputs": [
        {
          "output_type": "stream",
          "text": [
            "zero should not be in denominator\n"
          ],
          "name": "stdout"
        }
      ]
    },
    {
      "cell_type": "markdown",
      "metadata": {
        "id": "GrQWApjo20v_",
        "colab_type": "text"
      },
      "source": [
        "when you run the above code without Except function,even before asking for input the output will be ZeroDivisionError. We can customize python to give some specified outputs by using except function"
      ]
    },
    {
      "cell_type": "code",
      "metadata": {
        "id": "ArhgSPpp3VCM",
        "colab_type": "code",
        "outputId": "cc4632d8-191b-4a64-9ef4-febf4dbe2b37",
        "colab": {
          "base_uri": "https://localhost:8080/",
          "height": 52
        }
      },
      "source": [
        "try:\n",
        "    #value=10/0\n",
        "    number=int(input(\"Enter a number\"))\n",
        "    print(number)\n",
        "except ZeroDivisionError:\n",
        "    print(\"zero should not be in denominator\")\n",
        "except ValueError:\n",
        "    print(\"ValueError\")"
      ],
      "execution_count": 0,
      "outputs": [
        {
          "output_type": "stream",
          "text": [
            "Enter a numberswe\n",
            "ValueError\n"
          ],
          "name": "stdout"
        }
      ]
    },
    {
      "cell_type": "code",
      "metadata": {
        "id": "Rc-vWOP_3aR8",
        "colab_type": "code",
        "outputId": "d5f91b35-8511-494e-e848-357a4540ea9b",
        "colab": {
          "base_uri": "https://localhost:8080/",
          "height": 52
        }
      },
      "source": [
        "try:\n",
        "    #value=10/0\n",
        "    number=int(input(\"Enter a number\"))\n",
        "    print(number)\n",
        "except ZeroDivisionError:\n",
        "    print(\"zero should not be in denominator\")\n",
        "except ValueError:\n",
        "    print(\"ValueError\")"
      ],
      "execution_count": 0,
      "outputs": [
        {
          "output_type": "stream",
          "text": [
            "Enter a number10\n",
            "10\n"
          ],
          "name": "stdout"
        }
      ]
    },
    {
      "cell_type": "markdown",
      "metadata": {
        "id": "7RoVD2ehy9QT",
        "colab_type": "text"
      },
      "source": [
        "## 2D lists and Nested loops"
      ]
    },
    {
      "cell_type": "code",
      "metadata": {
        "id": "kztNtZHHy4mk",
        "colab_type": "code",
        "outputId": "f7984d94-acbb-4b84-bd37-4993e846a648",
        "colab": {
          "base_uri": "https://localhost:8080/",
          "height": 35
        }
      },
      "source": [
        "grid=[[1,2,3],[4,5,6],[7,8,9],[0]]\n",
        "print(grid[0][0])\n",
        "\n"
      ],
      "execution_count": 0,
      "outputs": [
        {
          "output_type": "stream",
          "text": [
            "1\n"
          ],
          "name": "stdout"
        }
      ]
    },
    {
      "cell_type": "code",
      "metadata": {
        "id": "nRWdbIYWztn7",
        "colab_type": "code",
        "outputId": "beeaa403-fe7a-4968-e2b1-cada3adebc58",
        "colab": {
          "base_uri": "https://localhost:8080/",
          "height": 88
        }
      },
      "source": [
        "for i in grid:\n",
        "    print(i)"
      ],
      "execution_count": 0,
      "outputs": [
        {
          "output_type": "stream",
          "text": [
            "[1, 2, 3]\n",
            "[4, 5, 6]\n",
            "[7, 8, 9]\n",
            "[0]\n"
          ],
          "name": "stdout"
        }
      ]
    },
    {
      "cell_type": "code",
      "metadata": {
        "id": "HwccPLUMzHIT",
        "colab_type": "code",
        "outputId": "1c0b75d2-e29b-45f9-e289-472125012781",
        "colab": {
          "base_uri": "https://localhost:8080/",
          "height": 195
        }
      },
      "source": [
        "for i in grid:\n",
        "    for j in i:\n",
        "        print(j)"
      ],
      "execution_count": 0,
      "outputs": [
        {
          "output_type": "stream",
          "text": [
            "1\n",
            "2\n",
            "3\n",
            "4\n",
            "5\n",
            "6\n",
            "7\n",
            "8\n",
            "9\n",
            "0\n"
          ],
          "name": "stdout"
        }
      ]
    },
    {
      "cell_type": "markdown",
      "metadata": {
        "id": "--npwZ5H0pRq",
        "colab_type": "text"
      },
      "source": [
        "##Comments"
      ]
    },
    {
      "cell_type": "code",
      "metadata": {
        "id": "mUCW93ND0oCB",
        "colab_type": "code",
        "outputId": "8617ce46-da94-4732-91c3-c0b3cdefe3c1",
        "colab": {
          "base_uri": "https://localhost:8080/",
          "height": 35
        }
      },
      "source": [
        "##-------------comments--------\n",
        "\n",
        "#for one line comments--------\n",
        "\n",
        "'''\n",
        "for\n",
        "multiple line comments\n",
        "'''"
      ],
      "execution_count": 0,
      "outputs": [
        {
          "output_type": "execute_result",
          "data": {
            "text/plain": [
              "'\\nfor\\nmultiple line comments\\n'"
            ]
          },
          "metadata": {
            "tags": []
          },
          "execution_count": 73
        }
      ]
    },
    {
      "cell_type": "markdown",
      "metadata": {
        "id": "ExPVCfoC55qN",
        "colab_type": "text"
      },
      "source": [
        "##Reading and Modifying files"
      ]
    },
    {
      "cell_type": "code",
      "metadata": {
        "id": "zdDGiZ6P8HX4",
        "colab_type": "code",
        "outputId": "81f8b966-82c6-4dde-af31-f5cae7e106d2",
        "colab": {
          "resources": {
            "http://localhost:8080/nbextensions/google.colab/files.js": {
              "data": "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",
              "ok": true,
              "headers": [
                [
                  "content-type",
                  "application/javascript"
                ]
              ],
              "status": 200,
              "status_text": ""
            }
          },
          "base_uri": "https://localhost:8080/",
          "height": 75
        }
      },
      "source": [
        "from google.colab import files\n",
        "import io\n",
        "\n",
        "uploaded = files.upload()\n",
        "\n"
      ],
      "execution_count": 0,
      "outputs": [
        {
          "output_type": "display_data",
          "data": {
            "text/html": [
              "\n",
              "     <input type=\"file\" id=\"files-3bbe473f-b69b-49f0-b5ee-5a83573053cf\" name=\"files[]\" multiple disabled />\n",
              "     <output id=\"result-3bbe473f-b69b-49f0-b5ee-5a83573053cf\">\n",
              "      Upload widget is only available when the cell has been executed in the\n",
              "      current browser session. Please rerun this cell to enable.\n",
              "      </output>\n",
              "      <script src=\"/nbextensions/google.colab/files.js\"></script> "
            ],
            "text/plain": [
              "<IPython.core.display.HTML object>"
            ]
          },
          "metadata": {
            "tags": []
          }
        },
        {
          "output_type": "stream",
          "text": [
            "Saving friendsfile.txt to friendsfile.txt\n"
          ],
          "name": "stdout"
        }
      ]
    },
    {
      "cell_type": "markdown",
      "metadata": {
        "id": "lTU4JravAQ5F",
        "colab_type": "text"
      },
      "source": [
        "###Reading Files"
      ]
    },
    {
      "cell_type": "code",
      "metadata": {
        "id": "GtIyHpuR3rNm",
        "colab_type": "code",
        "outputId": "1c242b93-90b0-4188-de3f-cdf09a6bf9ff",
        "colab": {
          "base_uri": "https://localhost:8080/",
          "height": 35
        }
      },
      "source": [
        "\n",
        "file=open(\"friendsfile.txt\",\"r\")\n",
        "print(file.readlines())\n",
        "#print(file.readline())\n",
        "file.close()\n"
      ],
      "execution_count": 0,
      "outputs": [
        {
          "output_type": "stream",
          "text": [
            "['swetha  me\\n', 'srija  friend1\\n', 'tushu  friend2\\n', 'lalam  friend<3\\n', 'Harshi  friend3\\n', 'revathi  friend4\\n']\n"
          ],
          "name": "stdout"
        }
      ]
    },
    {
      "cell_type": "code",
      "metadata": {
        "id": "tArzE8gS_xc3",
        "colab_type": "code",
        "outputId": "ecb8b259-2e4e-4455-ec2e-e53231ad858f",
        "colab": {
          "base_uri": "https://localhost:8080/",
          "height": 88
        }
      },
      "source": [
        "#Reading Files\n",
        "file=open(\"friendsfile.txt\",\"r\")\n",
        "#print(file.readlines())\n",
        "print(file.readline())\n",
        "print(file.readline())\n",
        "file.close()\n"
      ],
      "execution_count": 0,
      "outputs": [
        {
          "output_type": "stream",
          "text": [
            "swetha  me\n",
            "\n",
            "srija  friend1\n",
            "\n"
          ],
          "name": "stdout"
        }
      ]
    },
    {
      "cell_type": "markdown",
      "metadata": {
        "id": "5SKdKciZAVcP",
        "colab_type": "text"
      },
      "source": [
        "###Writing files"
      ]
    },
    {
      "cell_type": "code",
      "metadata": {
        "id": "tjPt9b0o-fYb",
        "colab_type": "code",
        "colab": {}
      },
      "source": [
        "#Write new information & change existing\n",
        "open(\"myfriends.txt\",\"w\")\n"
      ],
      "execution_count": 0,
      "outputs": []
    },
    {
      "cell_type": "markdown",
      "metadata": {
        "id": "DrT73rBoAreD",
        "colab_type": "text"
      },
      "source": [
        "###Read and modify the files"
      ]
    },
    {
      "cell_type": "code",
      "metadata": {
        "id": "bpvq5hk1AaHh",
        "colab_type": "code",
        "colab": {}
      },
      "source": [
        "#both read and write\n",
        "open(\"myfriends.txt\",\"r+\")\n"
      ],
      "execution_count": 0,
      "outputs": []
    },
    {
      "cell_type": "markdown",
      "metadata": {
        "id": "NAgTFDxJAe57",
        "colab_type": "text"
      },
      "source": [
        "###append"
      ]
    },
    {
      "cell_type": "code",
      "metadata": {
        "id": "LHtMl7i8Aegy",
        "colab_type": "code",
        "outputId": "0ff7a75f-7af3-442b-acf8-479afc3dfc65",
        "colab": {
          "base_uri": "https://localhost:8080/",
          "height": 35
        }
      },
      "source": [
        "#add new information at the end\n",
        "open(\"myfriends.txt\",\"a\")"
      ],
      "execution_count": 0,
      "outputs": [
        {
          "output_type": "execute_result",
          "data": {
            "text/plain": [
              "<_io.TextIOWrapper name='myfriends.txt' mode='a' encoding='UTF-8'>"
            ]
          },
          "metadata": {
            "tags": []
          },
          "execution_count": 117
        }
      ]
    },
    {
      "cell_type": "code",
      "metadata": {
        "id": "rKNRfZJU8kdB",
        "colab_type": "code",
        "outputId": "e9285a87-c764-4130-f048-0c4f0b6985c7",
        "colab": {
          "base_uri": "https://localhost:8080/",
          "height": 35
        }
      },
      "source": [
        "for fn in uploaded.keys():\n",
        "  print('User uploaded file \"{name}\" with length {length} bytes'.format(\n",
        "      name=fn, length=len(uploaded[fn])))"
      ],
      "execution_count": 0,
      "outputs": [
        {
          "output_type": "stream",
          "text": [
            "User uploaded file \"myfriends.txt\" with length 102 bytes\n"
          ],
          "name": "stdout"
        }
      ]
    },
    {
      "cell_type": "code",
      "metadata": {
        "id": "CAkIGcIt860o",
        "colab_type": "code",
        "colab": {}
      },
      "source": [
        "data_path = io.StringIO(uploaded['myfriends.txt'].decode('utf-8'))\n"
      ],
      "execution_count": 0,
      "outputs": []
    },
    {
      "cell_type": "code",
      "metadata": {
        "id": "zIvqybix9C2S",
        "colab_type": "code",
        "outputId": "8f9ecea9-cad0-48a9-ffc1-d352a9f6b786",
        "colab": {
          "base_uri": "https://localhost:8080/",
          "height": 35
        }
      },
      "source": [
        "print(data_path.line_buffering)\n"
      ],
      "execution_count": 0,
      "outputs": [
        {
          "output_type": "stream",
          "text": [
            "False\n"
          ],
          "name": "stdout"
        }
      ]
    },
    {
      "cell_type": "code",
      "metadata": {
        "id": "AT3Lm-p69XJe",
        "colab_type": "code",
        "outputId": "d69c31ed-6980-41b6-e8a4-3e415beae0c5",
        "colab": {
          "base_uri": "https://localhost:8080/",
          "height": 141
        }
      },
      "source": [
        "print(data_path.getvalue())\n"
      ],
      "execution_count": 0,
      "outputs": [
        {
          "output_type": "stream",
          "text": [
            "swetha - me\r\n",
            "srija - friend1\r\n",
            "tushu - friend2\r\n",
            "lalam - friend<3\r\n",
            "Harshi - friend3\r\n",
            "revathi - friend4\r\n",
            "\n"
          ],
          "name": "stdout"
        }
      ]
    },
    {
      "cell_type": "code",
      "metadata": {
        "id": "rSSFt3Vz9YyV",
        "colab_type": "code",
        "outputId": "a1af7319-f59b-4cb4-c550-de4f8ce35ea0",
        "colab": {
          "base_uri": "https://localhost:8080/",
          "height": 35
        }
      },
      "source": [
        "print(data_path.readable())"
      ],
      "execution_count": 0,
      "outputs": [
        {
          "output_type": "stream",
          "text": [
            "True\n"
          ],
          "name": "stdout"
        }
      ]
    },
    {
      "cell_type": "code",
      "metadata": {
        "id": "wBekacjR9a73",
        "colab_type": "code",
        "outputId": "4ff69a7b-2c4e-437e-db40-29724ed3a166",
        "colab": {
          "base_uri": "https://localhost:8080/",
          "height": 70
        }
      },
      "source": [
        "print(data_path.readline())\n",
        "print(data_path.readline())\n",
        "print(data_path.readline())\n"
      ],
      "execution_count": 0,
      "outputs": [
        {
          "output_type": "stream",
          "text": [
            "\n",
            "\n",
            "\n"
          ],
          "name": "stdout"
        }
      ]
    }
  ]
}